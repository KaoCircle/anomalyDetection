{
 "cells": [
  {
   "cell_type": "markdown",
   "metadata": {},
   "source": [
    "# Training Data"
   ]
  },
  {
   "cell_type": "markdown",
   "metadata": {},
   "source": [
    "### File descriptions\n",
    "\n",
    "    train.csv - the training set (contains 1458644 trip records)\n",
    "    test.csv - the testing set (contains 625134 trip records)\n",
    "    sample_submission.csv - a sample submission file in the correct format\n",
    "\n",
    "### Data fields\n",
    "\n",
    "    id - a unique identifier for each trip\n",
    "    vendor_id - a code indicating the provider associated with the trip record\n",
    "    pickup_datetime - date and time when the meter was engaged\n",
    "    dropoff_datetime - date and time when the meter was disengaged\n",
    "    passenger_count - the number of passengers in the vehicle (driver entered value)\n",
    "    pickup_longitude - the longitude where the meter was engaged\n",
    "    pickup_latitude - the latitude where the meter was engaged\n",
    "    dropoff_longitude - the longitude where the meter was disengaged\n",
    "    dropoff_latitude - the latitude where the meter was disengaged\n",
    "    store_and_fwd_flag - This flag indicates whether the trip record was held in vehicle memory before sending to the vendor because the vehicle did not have a connection to the server - Y=store and forward; N=not a store and forward trip\n",
    "    trip_duration - duration of the trip in seconds"
   ]
  },
  {
   "cell_type": "code",
   "execution_count": 1,
   "metadata": {},
   "outputs": [],
   "source": [
    "%matplotlib inline\n",
    "import csv\n",
    "from datetime import datetime\n",
    "import numpy as np\n",
    "import matplotlib.pyplot as plt\n",
    "import syslog\n",
    "import time"
   ]
  },
  {
   "cell_type": "code",
   "execution_count": 8,
   "metadata": {
    "scrolled": true
   },
   "outputs": [
    {
     "name": "stdout",
     "output_type": "stream",
     "text": [
      "Load training data... usually takes 1 minute\n",
      "Finished loading. 58.404911279678345 seconds.\n",
      "longitude: -121.93334197998047 to -61.33552932739258 , latitude: 32.1811408996582 to 51.88108444213867\n"
     ]
    }
   ],
   "source": [
    "import dataloader\n",
    "# import numpy as np\n",
    "# import keras\n",
    "# from keras.layers import *\n",
    "# from keras.models import Model\n",
    "# from sklearn.decomposition import PCA\n",
    "# import matplotlib.pyplot as plt\n",
    "# import syslog\n",
    "DATA_PATH = 'datasets/train.csv'\n",
    "\n",
    "\n",
    "def helloworld():\n",
    "    print('hello world')\n",
    "\n",
    "\n",
    "taxi_data = dataloader.load_data(DATA_PATH)"
   ]
  },
  {
   "cell_type": "code",
   "execution_count": 13,
   "metadata": {},
   "outputs": [
    {
     "name": "stdout",
     "output_type": "stream",
     "text": [
      "Generating adjacency matrice...\n"
     ]
    },
    {
     "ename": "IndexError",
     "evalue": "index 20 is out of bounds for axis 0 with size 20",
     "output_type": "error",
     "traceback": [
      "\u001b[0;31m---------------------------------------------------------------------------\u001b[0m",
      "\u001b[0;31mIndexError\u001b[0m                                Traceback (most recent call last)",
      "\u001b[0;32m<ipython-input-13-9472b5dc68d2>\u001b[0m in \u001b[0;36m<module>\u001b[0;34m()\u001b[0m\n\u001b[1;32m      1\u001b[0m \u001b[0;32mimport\u001b[0m \u001b[0mdataloader\u001b[0m\u001b[0;34m\u001b[0m\u001b[0m\n\u001b[0;32m----> 2\u001b[0;31m \u001b[0maj_3d\u001b[0m\u001b[0;34m,\u001b[0m \u001b[0maj_4d\u001b[0m \u001b[0;34m=\u001b[0m \u001b[0mdataloader\u001b[0m\u001b[0;34m.\u001b[0m\u001b[0mcreate_am\u001b[0m\u001b[0;34m(\u001b[0m\u001b[0mtaxi_data\u001b[0m\u001b[0;34m,\u001b[0m \u001b[0;34m-\u001b[0m\u001b[0;36m74.2\u001b[0m\u001b[0;34m,\u001b[0m \u001b[0;34m-\u001b[0m\u001b[0;36m73.7\u001b[0m\u001b[0;34m,\u001b[0m \u001b[0;36m40.5\u001b[0m\u001b[0;34m,\u001b[0m \u001b[0;36m40.9\u001b[0m\u001b[0;34m,\u001b[0m \u001b[0;36m5\u001b[0m\u001b[0;34m,\u001b[0m \u001b[0;36m4\u001b[0m\u001b[0;34m)\u001b[0m\u001b[0;34m\u001b[0m\u001b[0m\n\u001b[0m\u001b[1;32m      3\u001b[0m \u001b[0mprint\u001b[0m\u001b[0;34m(\u001b[0m\u001b[0maj_4d\u001b[0m\u001b[0;34m.\u001b[0m\u001b[0mshape\u001b[0m\u001b[0;34m)\u001b[0m\u001b[0;34m\u001b[0m\u001b[0m\n",
      "\u001b[0;32m~/Documents/abschluss/project/anomalyDetection/dataloader.py\u001b[0m in \u001b[0;36mcreate_am\u001b[0;34m(trip, minlogi, maxlogi, minlati, maxlati, x_block, y_block)\u001b[0m\n\u001b[1;32m     91\u001b[0m         \u001b[0mdate\u001b[0m \u001b[0;34m=\u001b[0m \u001b[0;34m(\u001b[0m\u001b[0mt\u001b[0m\u001b[0;34m[\u001b[0m\u001b[0;36m2\u001b[0m\u001b[0;34m]\u001b[0m\u001b[0;34m-\u001b[0m\u001b[0mmintime\u001b[0m\u001b[0;34m)\u001b[0m\u001b[0;34m.\u001b[0m\u001b[0mdays\u001b[0m\u001b[0;34m\u001b[0m\u001b[0m\n\u001b[1;32m     92\u001b[0m         \u001b[0mweek\u001b[0m\u001b[0;34m,\u001b[0m \u001b[0mweekday\u001b[0m \u001b[0;34m=\u001b[0m \u001b[0mdivmod\u001b[0m\u001b[0;34m(\u001b[0m\u001b[0mdate\u001b[0m\u001b[0;34m,\u001b[0m \u001b[0;36m7\u001b[0m\u001b[0;34m)\u001b[0m\u001b[0;34m\u001b[0m\u001b[0m\n\u001b[0;32m---> 93\u001b[0;31m         \u001b[0;32mif\u001b[0m \u001b[0mweek\u001b[0m \u001b[0;34m<\u001b[0m \u001b[0;36m26\u001b[0m\u001b[0;34m:\u001b[0m\u001b[0;34m\u001b[0m\u001b[0m\n\u001b[0m\u001b[1;32m     94\u001b[0m             \u001b[0maj_3d\u001b[0m\u001b[0;34m[\u001b[0m\u001b[0mweek\u001b[0m\u001b[0;34m]\u001b[0m\u001b[0;34m[\u001b[0m\u001b[0mweekday\u001b[0m\u001b[0;34m]\u001b[0m\u001b[0;34m[\u001b[0m\u001b[0morig\u001b[0m\u001b[0;34m+\u001b[0m\u001b[0mdest\u001b[0m\u001b[0;34m*\u001b[0m\u001b[0mn_block\u001b[0m\u001b[0;34m]\u001b[0m \u001b[0;34m+=\u001b[0m \u001b[0mt\u001b[0m\u001b[0;34m[\u001b[0m\u001b[0;36m4\u001b[0m\u001b[0;34m]\u001b[0m\u001b[0;34m\u001b[0m\u001b[0m\n\u001b[1;32m     95\u001b[0m             \u001b[0maj_4d\u001b[0m\u001b[0;34m[\u001b[0m\u001b[0mweek\u001b[0m\u001b[0;34m]\u001b[0m\u001b[0;34m[\u001b[0m\u001b[0mweekday\u001b[0m\u001b[0;34m]\u001b[0m\u001b[0;34m[\u001b[0m\u001b[0morig\u001b[0m\u001b[0;34m]\u001b[0m\u001b[0;34m[\u001b[0m\u001b[0mdest\u001b[0m\u001b[0;34m]\u001b[0m \u001b[0;34m+=\u001b[0m \u001b[0mt\u001b[0m\u001b[0;34m[\u001b[0m\u001b[0;36m4\u001b[0m\u001b[0;34m]\u001b[0m\u001b[0;34m\u001b[0m\u001b[0m\n",
      "\u001b[0;31mIndexError\u001b[0m: index 20 is out of bounds for axis 0 with size 20"
     ]
    }
   ],
   "source": [
    "import dataloader\n",
    "aj_3d, aj_4d = dataloader.create_am(taxi_data, -74.2, -73.7, 40.5, 40.9, 5, 4)\n",
    "print(aj_4d.shape)"
   ]
  },
  {
   "cell_type": "code",
   "execution_count": 3,
   "metadata": {},
   "outputs": [
    {
     "name": "stdout",
     "output_type": "stream",
     "text": [
      "D/O   0    1    2    3    4    5    6    7    8    9   10   11   12   13   14   15   16   17   18   19   20  \n",
      " 0    0    0    0    0    0    0    0    0    0    0    0    0    1    0    0    0    0    0    0    0    0  \n",
      " 1    0    2    0    0    0    0    0    0    0    0    0    3    0    0    0    0    0    0    0    0    0  \n",
      " 2    0    0    0    0    0    0    0    0    0    2    3    0    0    0    0    0    0    0    0    0    0  \n",
      " 3    0    0    0    0    0    0    2    0    0    0    0    0    0    0    0    0    0    0    0    0    0  \n",
      " 4    0    0    0    0    0    0    0    0    2    0    0    0    0    0    0    0    0    0    0    0    0  \n",
      " 5    0    0    0    0    0    0    3   21    0    0    0    0    0    0    0    0    0    0    0    0    0  \n",
      " 6   16    5    0    0    0    5   25    0    0    0    0    0    0    0    0    0    0    0    0    0    5  \n",
      " 7   47    2   25    0   67  204   26    0    0    0    5    0    0    0    0    0    0    0    0    0    0  \n",
      " 8    0   13    0    0    8    6    0    0    0    0    3    0    0    0    0    0    0    0    0    0    0  \n",
      " 9   12    0    5   83    4    0    0    0    2    0    0    0    0    0    0    0    0    0    0    0    0  \n",
      "10    0    0    3    0    0    0    0    0    0    0    0    0    0    0    0    0    0   13    0   10    0  \n",
      "11  466 1057   40    0    0    0    6    0    0    0    0    0    0    0    0    1   34    1  137    0 1168  \n",
      "12 8669  233    0    0    0  126    0    0    0    0    0    0    0    0    0    0    1   14    0   25  244  \n",
      "13   28    0    0    0    1    0    0    0    0    0    0    0    0    0    0    0    8    0    0    3    6  \n",
      "14    0    0    0    0    0    0    0    0    0    0    0    0    0    0    0    0    0    0    0    0    0  \n",
      "15    0    0    0    0    0    0    0    0    0    0    0    0    0    0    0    0    0    0    1    0    0  \n",
      "16    0    0    0    0    0    0    0    0    0    0    0    0    0    9    0   21  410   23    0    0    0  \n",
      "17   66    0    0    0    0    0    0    0    0    0    5    0    0    0    5   17    0    0    0    0    1  \n",
      "18    1    0    0    0    0    0    0    0    0    0    0    0    0    0    0    0    0    0    0    0    0  \n",
      "19    0    0    0    0    0    0    0    0    0    0    2    0    0    5    4    0    0    0    0    0    0  \n",
      "20    4    0    0    0    0    0    0    0    0    0    0    0    0    0    0    0    0    0    0    0    0  \n"
     ]
    }
   ],
   "source": [
    "print('D/O', end='')\n",
    "for x in range(21):\n",
    "    print(\"%4d\" % x, end=' ')\n",
    "\n",
    "print(' ')\n",
    "for i in range(0, 441, 21):\n",
    "    x = i/21\n",
    "    print(\"%2d\" % x, end=' ')\n",
    "    for x in aj[4][6][i:i+21].astype(int):\n",
    "        print(\"%4d\" % x, end=' ')\n",
    "    print(' ')"
   ]
  },
  {
   "cell_type": "code",
   "execution_count": 6,
   "metadata": {},
   "outputs": [
    {
     "ename": "NameError",
     "evalue": "name 'maxlogi' is not defined",
     "output_type": "error",
     "traceback": [
      "\u001b[0;31m---------------------------------------------------------------------------\u001b[0m",
      "\u001b[0;31mNameError\u001b[0m                                 Traceback (most recent call last)",
      "\u001b[0;32m<ipython-input-6-945f92c9f775>\u001b[0m in \u001b[0;36m<module>\u001b[0;34m()\u001b[0m\n\u001b[1;32m      9\u001b[0m \u001b[0mn_block\u001b[0m \u001b[0;34m=\u001b[0m \u001b[0mx_block\u001b[0m\u001b[0;34m*\u001b[0m\u001b[0my_block\u001b[0m\u001b[0;34m\u001b[0m\u001b[0m\n\u001b[1;32m     10\u001b[0m \u001b[0mn_input\u001b[0m \u001b[0;34m=\u001b[0m \u001b[0mn_block\u001b[0m\u001b[0;34m*\u001b[0m\u001b[0mn_block\u001b[0m\u001b[0;34m\u001b[0m\u001b[0m\n\u001b[0;32m---> 11\u001b[0;31m \u001b[0mlogi_len\u001b[0m \u001b[0;34m=\u001b[0m \u001b[0;34m(\u001b[0m\u001b[0mmaxlogi\u001b[0m\u001b[0;34m-\u001b[0m\u001b[0mminlogi\u001b[0m\u001b[0;34m)\u001b[0m\u001b[0;34m/\u001b[0m\u001b[0mx_block\u001b[0m\u001b[0;34m\u001b[0m\u001b[0m\n\u001b[0m\u001b[1;32m     12\u001b[0m \u001b[0mlati_len\u001b[0m \u001b[0;34m=\u001b[0m \u001b[0;34m(\u001b[0m\u001b[0mmaxlati\u001b[0m\u001b[0;34m-\u001b[0m\u001b[0mminlati\u001b[0m\u001b[0;34m)\u001b[0m\u001b[0;34m/\u001b[0m\u001b[0my_block\u001b[0m\u001b[0;34m\u001b[0m\u001b[0m\n\u001b[1;32m     13\u001b[0m \u001b[0mmintime\u001b[0m \u001b[0;34m=\u001b[0m \u001b[0mdatetime\u001b[0m\u001b[0;34m.\u001b[0m\u001b[0mstrptime\u001b[0m\u001b[0;34m(\u001b[0m\u001b[0;34m'2016-1-1 0:0:0'\u001b[0m\u001b[0;34m,\u001b[0m \u001b[0;34m\"%Y-%m-%d %H:%M:%S\"\u001b[0m\u001b[0;34m)\u001b[0m\u001b[0;34m\u001b[0m\u001b[0m\n",
      "\u001b[0;31mNameError\u001b[0m: name 'maxlogi' is not defined"
     ]
    }
   ],
   "source": [
    "####################REMOVE########################\n",
    "\n",
    "#longitude range: -61 to -122, latitude range: 52-32, time range: 2016-01-01 to 2016-07-01\n",
    "#print(len(trip))\n",
    "#print(row.keys())\n",
    "x_block = 5\n",
    "y_block = 2\n",
    "t_block = 183\n",
    "n_block = x_block*y_block\n",
    "n_input = n_block*n_block\n",
    "logi_len = (maxlogi-minlogi)/x_block\n",
    "lati_len = (maxlati-minlati)/y_block\n",
    "mintime = datetime.strptime('2016-1-1 0:0:0', \"%Y-%m-%d %H:%M:%S\")\n",
    "\n",
    "def block(logi, lati):\n",
    "    x = int((logi-minlogi)/logi_len)\n",
    "    y = int((lati-minlati)/lati_len)\n",
    "    if x==x_block: x = x-1\n",
    "    if y==y_block: y = y-1\n",
    "\n",
    "    return y*x_block+x\n",
    "\n",
    "#adjacency matrice, 183*24*100\n",
    "#date from 0101 to 0107, time 0-23 stands for every hours\n",
    "#there are 10 blocks in the map, and each people traveling is counted in 10*10=100 array\n",
    "aj = np.zeros((t_block, 24, n_input))\n",
    "for t in trip:\n",
    "    orig = block(t[5], t[6])\n",
    "    dest = block(t[7], t[8])\n",
    "    date = (t[2]-mintime).days\n",
    "    time = t[2].hour\n",
    "    aj[date][time][orig+dest*n_block] += t[4]"
   ]
  },
  {
   "cell_type": "markdown",
   "metadata": {},
   "source": [
    "## create adjacency matrice"
   ]
  },
  {
   "cell_type": "code",
   "execution_count": 4,
   "metadata": {},
   "outputs": [
    {
     "name": "stdout",
     "output_type": "stream",
     "text": [
      "generate adjacency matrice. 4.148188829421997 seconds.\n"
     ]
    }
   ],
   "source": [
    "start_time = time.time()\n",
    "\n",
    "#longitude range: -61 to -122, latitude range: 52-32, time range: 2016-01-01 to 2016-07-01\n",
    "#print(len(trip))\n",
    "#print(row.keys())\n",
    "\n",
    "w_block = 26\n",
    "mintime = datetime.strptime('2016-1-1 0:0:0', \"%Y-%m-%d %H:%M:%S\")\n",
    "logi_len = (maxlogi-minlogi)/5; lati_len = (maxlati-minlati)/2\n",
    "minlogi = minlogi+3*logi_len; maxlogi = minlogi+logi_len\n",
    "maxlati = minlati+lati_len\n",
    "\n",
    "logi_len = logi_len/3; lati_len = lati_len/3\n",
    "x_block = 3; y_block = 3\n",
    "n_block = x_block*y_block\n",
    "n_input = 100\n",
    "\n",
    "# return 0-8 and 9\n",
    "def block(logi, lati):\n",
    "    if (logi>minlogi) and (logi<maxlogi) and (lati>minlati) and (lati<maxlati):\n",
    "        x = int((logi-minlogi)/logi_len)\n",
    "        y = int((lati-minlati)/lati_len)\n",
    "        return y*x_block+x\n",
    "    else:\n",
    "        return 9\n",
    "\n",
    "#adjacency matrice, 26*7*100\n",
    "#26 weeks, 7 days\n",
    "#there are 10 blocks in the map, and each people traveling is counted in 10*10=100 array\n",
    "aj = np.zeros((26, 7, n_input))\n",
    "for t in trip:\n",
    "    orig = block(t[5], t[6])\n",
    "    dest = block(t[7], t[8])\n",
    "    date = (t[2]-mintime).days\n",
    "    week, weekday= divmod(date, 7)\n",
    "    if week<26:\n",
    "        aj[week][weekday][orig+dest*n_block] += t[4]\n",
    "\n",
    "elapsed_time = time.time() - start_time\n",
    "print('generate adjacency matrice.', elapsed_time, 'seconds.')"
   ]
  },
  {
   "cell_type": "markdown",
   "metadata": {},
   "source": [
    "## LSTM attempt"
   ]
  },
  {
   "cell_type": "code",
   "execution_count": 6,
   "metadata": {},
   "outputs": [
    {
     "name": "stdout",
     "output_type": "stream",
     "text": [
      "train model. 0.9111177921295166 seconds.\n"
     ]
    }
   ],
   "source": [
    "start_time = time.time()\n",
    "\n",
    "# 26*7*100 to 26*20\n",
    "inpE = Input((7, n_input))\n",
    "outE = LSTM(units = 20, return_sequences=False, activation='tanh')(inpE)\n",
    "encoder = Model(inpE,outE)\n",
    "\n",
    "# 26*5 to 26*700 to 26*7*100\n",
    "inpD = Input((20,))\n",
    "outD = Reshape((20,1))(inpD)\n",
    "outD = LSTM(7*n_input,return_sequences=False, activation='tanh')(outD)\n",
    "outD = Reshape((7,n_input))(outD)\n",
    "autoencoder = Model(inpD,outD)\n",
    "\n",
    "autoencoder.compile(loss='binary_crossentropy', optimizer=\"adam\", metrics=['accuracy'])\n",
    "\n",
    "autoencoder.fit(epochs=50,steps_per_epoch=10,batch_size=256)\n",
    "\n",
    "elapsed_time = time.time() - start_time\n",
    "start_time = time.time()\n",
    "print('train model.', elapsed_time, 'seconds.')"
   ]
  },
  {
   "cell_type": "code",
   "execution_count": null,
   "metadata": {},
   "outputs": [],
   "source": [
    "start_time = time.time()\n",
    "\n",
    "#encode\n",
    "encoderPredictions = encoder.predict(aj)\n",
    "#decode\n",
    "decoderPredictions = decoder.predict(encoderPredictions)\n",
    "\n",
    "elapsed_time = time.time() - start_time\n",
    "start_time = time.time()\n",
    "print('predict.', elapsed_time, 'seconds.')"
   ]
  },
  {
   "cell_type": "code",
   "execution_count": null,
   "metadata": {},
   "outputs": [],
   "source": [
    "print(aj.shape, encoderPredictions.shape, decoderPredictions.shape)"
   ]
  },
  {
   "cell_type": "markdown",
   "metadata": {},
   "source": [
    "## PCA attempt"
   ]
  },
  {
   "cell_type": "code",
   "execution_count": null,
   "metadata": {},
   "outputs": [],
   "source": [
    "start_time = time.time()\n",
    "\n",
    "aj_re = aj.reshape(-1, 700)\n",
    "\n",
    "pca = PCA(.95)\n",
    "pca_aj = pca.fit_transform(aj_re)\n",
    "\n",
    "elapsed_time = time.time() - start_time\n",
    "start_time = time.time()\n",
    "print('pca on adjacency matrice.', elapsed_time, 'seconds.')"
   ]
  },
  {
   "cell_type": "code",
   "execution_count": null,
   "metadata": {},
   "outputs": [],
   "source": [
    "start_time = time.time()\n",
    "\n",
    "pcainv_aj = pca.inverse_transform(pca_aj)\n",
    "pcainv_aj = pcainv_aj.reshape(-1, 7, 100)\n",
    "print(pcainv_aj.shape)\n",
    "\n",
    "elapsed_time = time.time() - start_time\n",
    "start_time = time.time()\n",
    "print('pca inverse on adjacency matrice.', elapsed_time, 'seconds.')"
   ]
  },
  {
   "cell_type": "markdown",
   "metadata": {},
   "source": [
    "## reference\n",
    "\n",
    "Taxi data: https://www.kaggle.com/c/nyc-taxi-trip-duration/data\n",
    "\n",
    "Using LSTM: https://blog.keras.io/building-autoencoders-in-keras.html\n",
    "\n",
    "https://stackoverflow.com/questions/44647258/lstm-autoencoder"
   ]
  },
  {
   "cell_type": "markdown",
   "metadata": {},
   "source": [
    "resize\n",
    "normalize\n",
    "reconstruction error\n",
    "hidden layer 10\n",
    "visualize"
   ]
  }
 ],
 "metadata": {
  "kernelspec": {
   "display_name": "Python 3",
   "language": "python",
   "name": "python3"
  },
  "language_info": {
   "codemirror_mode": {
    "name": "ipython",
    "version": 3
   },
   "file_extension": ".py",
   "mimetype": "text/x-python",
   "name": "python",
   "nbconvert_exporter": "python",
   "pygments_lexer": "ipython3",
   "version": "3.5.4"
  }
 },
 "nbformat": 4,
 "nbformat_minor": 2
}
